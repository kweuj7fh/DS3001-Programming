{
 "cells": [
  {
   "cell_type": "markdown",
   "metadata": {},
   "source": [
    "# Assignment: Programming Review\n",
    "## Krishu Wadhwa - euj7fh\n",
    "## September 11, 2024"
   ]
  },
  {
   "cell_type": "markdown",
   "metadata": {},
   "source": [
    "# Question 1\n",
    "1. Go to the Occupational Outlook Handbook at https://www.bls.gov/ooh/. Look up \"Data Scientist.\" Read about the job and start collecting data about it from the job profile (e.g. salary, education required, work setting)"
   ]
  },
  {
   "cell_type": "code",
   "execution_count": 5,
   "metadata": {},
   "outputs": [
    {
     "name": "stdout",
     "output_type": "stream",
     "text": [
      "        Job Title 2023 Median Pay (Annual) 2023 Median Pay (Hourly)  \\\n",
      "0  Data Scientist                 $108,020                   $51.93   \n",
      "\n",
      "  Typical Entry-Level Education Work Experience in a Related Occupation  \\\n",
      "0             Bachelor's degree                                     NaN   \n",
      "\n",
      "   On-the-job Training Number of Jobs, 2023  Job Outlook (%), 2023-33  \\\n",
      "0                  NaN              202,900                        36   \n",
      "\n",
      "  Employment Change, 2023-33  Job Rank  \n",
      "0                     73,100         4  \n"
     ]
    }
   ],
   "source": [
    "import pandas as pd\n",
    "\n",
    "url = 'https://github.com/kweuj7fh/DS3001-Programming/raw/main/Careers.csv'\n",
    "\n",
    "careers = pd.read_csv(url)\n",
    "\n",
    "# Display the first row\n",
    "print(careers.head(1))"
   ]
  },
  {
   "cell_type": "markdown",
   "metadata": {},
   "source": [
    "2. Find 7-10 other jobs that appeal to you, and collect the same data as you did for Data Scientist. Put it all in a spreadsheet."
   ]
  },
  {
   "cell_type": "code",
   "execution_count": null,
   "metadata": {},
   "outputs": [],
   "source": []
  },
  {
   "cell_type": "markdown",
   "metadata": {},
   "source": [
    "3. Do any of your findings surprise you?"
   ]
  },
  {
   "cell_type": "markdown",
   "metadata": {},
   "source": [
    "4. Rank the jobs you picked from best to worst, and briefly explain why you did so."
   ]
  },
  {
   "cell_type": "markdown",
   "metadata": {},
   "source": [
    "5. Please submit your spreadsheet with the assignment --- you can \"de-identify\" it and remove anything that you find personally identifying or you don't want to share, of course. We'll play with these data later."
   ]
  }
 ],
 "metadata": {
  "kernelspec": {
   "display_name": "Python 3",
   "language": "python",
   "name": "python3"
  },
  "language_info": {
   "codemirror_mode": {
    "name": "ipython",
    "version": 3
   },
   "file_extension": ".py",
   "mimetype": "text/x-python",
   "name": "python",
   "nbconvert_exporter": "python",
   "pygments_lexer": "ipython3",
   "version": "3.9.6"
  },
  "orig_nbformat": 4
 },
 "nbformat": 4,
 "nbformat_minor": 2
}
